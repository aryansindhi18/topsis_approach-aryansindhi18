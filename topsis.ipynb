{
 "cells": [
  {
   "cell_type": "code",
   "execution_count": 3,
   "metadata": {},
   "outputs": [],
   "source": [
    "import numpy as np\n",
    "import math\n",
    "import pandas as pd"
   ]
  },
  {
   "cell_type": "code",
   "execution_count": 10,
   "metadata": {},
   "outputs": [],
   "source": [
    "def topsis(data,w,impact):\n",
    "    d = np.array(data,dtype = float)\n",
    "#     print(d)\n",
    "    s = d.shape\n",
    "    c = s[1]\n",
    "    r = s[0]\n",
    "    vjplus = []\n",
    "    vjminus = []\n",
    "    splus = []\n",
    "    sminus = []\n",
    "#     print(s)\n",
    "    for i in range(c):\n",
    "        sum1 = 0\n",
    "        for j in range(r):\n",
    "            sum1 += d[j][i]**2\n",
    "        sum1 = math.sqrt(sum1)\n",
    "#         print(sum1)\n",
    "        ma = 0\n",
    "        mi =1 \n",
    "        for j in range(r):\n",
    "            d[j][i] = (d[j][i]/sum1)*w[i]\n",
    "            if d[j][i] > ma:\n",
    "                ma = d[j][i]\n",
    "            if d[j][i] < mi:\n",
    "                mi = d[j][i]\n",
    "#         print(d)\n",
    "        vjplus.append(ma)\n",
    "        vjminus.append(mi)\n",
    "#         print(vjplus)\n",
    "#         print(vjminus)\n",
    "    for i in range(c):\n",
    "        if impact[i] == '-':\n",
    "            vjplus[i],vjminus[i] = vjminus[i],vjplus[i]\n",
    "    for i in range(r):\n",
    "        v = 0\n",
    "        u = 0\n",
    "        for j in range(c):\n",
    "            v += (d[i][j] - vjplus[j])**2\n",
    "            u += (d[i][j] - vjminus[j])**2\n",
    "        splus.append(math.sqrt(v))\n",
    "        sminus.append(math.sqrt(u))\n",
    "#     print(sminus)\n",
    "#     print(splus)\n",
    "    p = []\n",
    "    for i in range(len(splus)):\n",
    "        p.append(sminus[i]/(sminus[i]+splus[i]))\n",
    "#     print(p)\n",
    "    n = np.array(p)\n",
    "    a = np.argsort(p)[::-1]\n",
    "    return a+1,n"
   ]
  },
  {
   "cell_type": "code",
   "execution_count": 11,
   "metadata": {},
   "outputs": [
    {
     "name": "stdout",
     "output_type": "stream",
     "text": [
      "[3 4 1 5 2] [0.53427686 0.30836777 0.69163223 0.53473658 0.40104612]\n"
     ]
    }
   ],
   "source": [
    "## EXAMPLE SHOWCASING HOW TO USE THE FUNCTION\n",
    "\n",
    "a = [[250,16,12,5],[200,16,8,3],[300,32,16,4],[275,32,8,4],[225,16,16,2]]\n",
    "##YOU CAN ALSO INPUT DIRECTLY FROM PRE-PROCESSED CSV FILE AS\n",
    "## \n",
    "w = [0.25,0.25,0.25,0.25]\n",
    "impact = ['-','+','+','+']\n",
    "r,n = topsis(a,w,impact)\n",
    "print(r,n)"
   ]
  }
 ],
 "metadata": {
  "kernelspec": {
   "display_name": "Python 3",
   "language": "python",
   "name": "python3"
  },
  "language_info": {
   "codemirror_mode": {
    "name": "ipython",
    "version": 3
   },
   "file_extension": ".py",
   "mimetype": "text/x-python",
   "name": "python",
   "nbconvert_exporter": "python",
   "pygments_lexer": "ipython3",
   "version": "3.6.5"
  }
 },
 "nbformat": 4,
 "nbformat_minor": 2
}
